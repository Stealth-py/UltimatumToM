{
 "cells": [
  {
   "cell_type": "code",
   "execution_count": 1,
   "metadata": {},
   "outputs": [],
   "source": [
    "import pandas as pd\n",
    "import numpy as np\n",
    "import os"
   ]
  },
  {
   "cell_type": "code",
   "execution_count": 2,
   "metadata": {},
   "outputs": [],
   "source": [
    "columns = ['Experiment', 'Acceptance Rate', 'Average Turns', 'Total payouts', 'Deviation Scores']"
   ]
  },
  {
   "cell_type": "code",
   "execution_count": 7,
   "metadata": {},
   "outputs": [],
   "source": [
    "# for model in ['deepseek-r1-distill-qwen-32b']:\n",
    "for model in ['gpt-4o']:\n",
    "    comb_dic = {\n",
    "        'Experiment': [],\n",
    "        'Acceptance Rate': [],\n",
    "        'Average Turns': [],\n",
    "        'Total payouts': [],\n",
    "        'Deviation Scores': []\n",
    "    }\n",
    "    for belief_comb in ['greedy-fair', 'greedy-greedy', 'greedy-selfless', 'fair-fair', 'fair-greedy', 'fair-selfless', 'selfless-fair', 'selfless-greedy', 'selfless-selfless']:\n",
    "        comb_dic['Experiment'].append(belief_comb)\n",
    "        comb_dic['Acceptance Rate'].append('')\n",
    "        comb_dic['Average Turns'].append('')\n",
    "        comb_dic['Total payouts'].append('')\n",
    "        comb_dic['Deviation Scores'].append('')\n",
    "\n",
    "        curr = pd.read_csv(\"outs/{}/{}.csv\".format(model, belief_comb))\n",
    "        for col in list(comb_dic.keys()):\n",
    "            # print(curr[col].values.tolist())\n",
    "            comb_dic[col].extend(curr[col].values.tolist())\n",
    "\n",
    "    df = pd.DataFrame(comb_dic)\n",
    "    df.to_csv(\"outs/{}/combined.csv\".format(model), index=False)"
   ]
  },
  {
   "cell_type": "code",
   "execution_count": null,
   "metadata": {},
   "outputs": [],
   "source": []
  }
 ],
 "metadata": {
  "kernelspec": {
   "display_name": "venv",
   "language": "python",
   "name": "python3"
  },
  "language_info": {
   "codemirror_mode": {
    "name": "ipython",
    "version": 3
   },
   "file_extension": ".py",
   "mimetype": "text/x-python",
   "name": "python",
   "nbconvert_exporter": "python",
   "pygments_lexer": "ipython3",
   "version": "3.12.8"
  }
 },
 "nbformat": 4,
 "nbformat_minor": 2
}
